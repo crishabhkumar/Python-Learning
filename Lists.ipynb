{
 "cells": [
  {
   "cell_type": "markdown",
   "metadata": {},
   "source": [
    "# Lists\n"
   ]
  },
  {
   "cell_type": "code",
   "execution_count": 14,
   "metadata": {},
   "outputs": [
    {
     "data": {
      "text/plain": [
       "[1, 2, 'rr', True]"
      ]
     },
     "execution_count": 14,
     "metadata": {},
     "output_type": "execute_result"
    }
   ],
   "source": [
    "#list = array\n",
    "#lists are muttable\n",
    "#list  = collection of datas \n",
    "#data can be anything like int,float,string etc\n",
    "\n",
    "a = [1,2,3,4]\n",
    "type(a)\n",
    "\n",
    "#to create an empty list\n",
    "a1 = list()\n",
    "\n",
    "\n",
    "#to make a copy of list\n",
    "a2 = list(a)\n",
    "\n",
    "a4 = [i for i in range(10)]   #means add i for i in range 9\n",
    "a4\n",
    "\n",
    "a5 = [i*i  for i in range(10)]  #means add i*i for i in range 9\n",
    "a5   \n",
    "\n",
    "\n",
    "a6 = [1,2,\"rr\",True]    #a list cant need of same data type\n",
    "a6\n",
    "\n"
   ]
  },
  {
   "cell_type": "code",
   "execution_count": 15,
   "metadata": {},
   "outputs": [
    {
     "name": "stdout",
     "output_type": "stream",
     "text": [
      "2\n",
      "4\n",
      "[2, 3]\n",
      "[2, 3]\n",
      "4\n",
      "1\n",
      "2\n",
      "3\n",
      "4\n"
     ]
    }
   ],
   "source": [
    "#how to acces data\n",
    "print(a[1])\n",
    "print(a[-1])\n",
    "\n",
    "#slicing se bhi access kr skte h\n",
    "print(a[1:3])    #a[start:end]\n",
    "print(a[-3:-1])\n",
    "\n",
    "print(len(a))\n",
    "\n",
    "\n",
    "#to fast iterate\n",
    "for i in a:\n",
    "    print(i)\n",
    "\n",
    "\n",
    "    "
   ]
  },
  {
   "cell_type": "code",
   "execution_count": 16,
   "metadata": {},
   "outputs": [
    {
     "name": "stdout",
     "output_type": "stream",
     "text": [
      "['a b c d']\n",
      "['a', 'vd', 'dd', 'cf']\n",
      "4589 56 \n",
      "['4589', '56']\n",
      "[4589, 56]\n"
     ]
    }
   ],
   "source": [
    "strx = \"a b c d\"\n",
    "d = strx.split(\",\")\n",
    "print(d)\n",
    "\n",
    "strx = \" a vd dd cf\"\n",
    "d = strx.strip().split(\" \")\n",
    "print(d)\n",
    "#strip removes first space and last space\n",
    "\n",
    "#how to take input in list\n",
    "# explained way to take input\n",
    "nums  = input().strip()\n",
    "nums = nums.split(\" \")\n",
    "print(nums)\n",
    "\n",
    "for i in range(0,len(nums)):\n",
    "    nums[i] = int(nums[i])\n",
    "    \n",
    "print(nums)\n"
   ]
  },
  {
   "cell_type": "code",
   "execution_count": 17,
   "metadata": {},
   "outputs": [
    {
     "name": "stdout",
     "output_type": "stream",
     "text": [
      "78 96\n",
      "[78, 96]\n"
     ]
    }
   ],
   "source": [
    "# best way to take input\n",
    "#one line taking input\n",
    "inp_list = [int(x) for x in input().strip().split(\" \")]\n",
    "\n",
    "print(inp_list)"
   ]
  },
  {
   "cell_type": "code",
   "execution_count": 41,
   "metadata": {},
   "outputs": [
    {
     "name": "stdout",
     "output_type": "stream",
     "text": [
      "[45, 'ac', 4, 2]\n",
      "[45, 456, 'ac', 4, 2]\n",
      "[45, 456, 'ac', 4, 2, 2, 3, 4]\n"
     ]
    }
   ],
   "source": [
    "#how to add elements\n",
    "\n",
    "lis = [45, \"ac\", 4]\n",
    "lis.append(2)   # adds element at last position\n",
    "print(lis)\n",
    "\n",
    "\n",
    "#insert works add at posiiton and move towards right array\n",
    "lis.insert(1,456)\n",
    "print(lis)\n",
    "\n",
    "lis2 = [2,3,4]\n",
    "#extends the list by adding the another list at the end\n",
    "lis.extend(lis2)\n",
    "print(lis)\n",
    "\n"
   ]
  },
  {
   "cell_type": "code",
   "execution_count": 42,
   "metadata": {},
   "outputs": [
    {
     "name": "stdout",
     "output_type": "stream",
     "text": [
      "[45, 456, 'ac', 4, 2, 2, 3]\n",
      "[45, 456, 4, 2, 2, 3]\n",
      "[45, 456, 4, 2, 3]\n",
      "[456, 4, 2, 3]\n",
      "[2, 456, 4, 2, 3]\n",
      "[456, 4, 2, 3]\n"
     ]
    }
   ],
   "source": [
    "#deleting elements\n",
    "#pop() without arguments removes the last element\n",
    "lis.pop()\n",
    "print(lis)\n",
    "#pop() with arguments remove the exact the index value and shift the lis \n",
    "lis.pop(2)\n",
    "print(lis)\n",
    "#another way to delete with index\n",
    "del lis[3]\n",
    "print(lis)\n",
    "del lis[0:1]\n",
    "print(lis)\n",
    "\n",
    "\n",
    "lis.insert(0,2)\n",
    "print(lis)\n",
    "\n",
    "\n",
    "#using remove we can remove particular elements\n",
    "#with first occurance\n",
    "#if we want to delete 3 then whenever first 3 comes it will remove it\n",
    "#from zero to length\n",
    "lis.remove(2)\n",
    "print(lis)\n",
    "\n"
   ]
  },
  {
   "cell_type": "code",
   "execution_count": 47,
   "metadata": {},
   "outputs": [
    {
     "data": {
      "text/plain": [
       "[1, 2, 3, 1, 2, 3, 1, 2, 3]"
      ]
     },
     "execution_count": 47,
     "metadata": {},
     "output_type": "execute_result"
    }
   ],
   "source": [
    "l = [1,2,3]\n",
    "#we cant add integer to list\n",
    "#l + 1\n",
    "#addition of list + list is okay\n",
    "l + l\n",
    "\n",
    "#multiplication with int is fine\n",
    "l*3\n",
    "\n",
    "\n"
   ]
  },
  {
   "cell_type": "code",
   "execution_count": 54,
   "metadata": {},
   "outputs": [
    {
     "data": {
      "text/plain": [
       "True"
      ]
     },
     "execution_count": 54,
     "metadata": {},
     "output_type": "execute_result"
    }
   ],
   "source": [
    "l = [2,3,4,1,5,6,9,7,8,7,5]\n",
    "#can use sort function\n",
    "l.sort()\n",
    "l\n",
    "\n",
    "#gives count of particular number\n",
    "l.count(7)\n",
    "\n",
    "#can get index using .index()\n",
    "l.index(5)\n",
    "\n",
    "\n",
    "#can reverse using reverse function\n",
    "l.reverse()\n",
    "l\n",
    "\n",
    "#boolean function \n",
    "#almost same as if else concept\n",
    "7 in l\n",
    "\n",
    "\n",
    "\n"
   ]
  }
 ],
 "metadata": {
  "kernelspec": {
   "display_name": "Python 3",
   "language": "python",
   "name": "python3"
  },
  "language_info": {
   "codemirror_mode": {
    "name": "ipython",
    "version": 3
   },
   "file_extension": ".py",
   "mimetype": "text/x-python",
   "name": "python",
   "nbconvert_exporter": "python",
   "pygments_lexer": "ipython3",
   "version": "3.8.5"
  }
 },
 "nbformat": 4,
 "nbformat_minor": 4
}
