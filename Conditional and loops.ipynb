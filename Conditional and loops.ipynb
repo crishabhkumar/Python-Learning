{
 "cells": [
  {
   "cell_type": "code",
   "execution_count": 3,
   "metadata": {},
   "outputs": [
    {
     "name": "stdout",
     "output_type": "stream",
     "text": [
      "<class 'bool'>\n"
     ]
    }
   ],
   "source": [
    "##Boolean\n",
    "\n",
    "a = True\n",
    "b = False\n",
    "\n",
    "print(type(a))\n"
   ]
  },
  {
   "cell_type": "code",
   "execution_count": 11,
   "metadata": {},
   "outputs": [
    {
     "name": "stdout",
     "output_type": "stream",
     "text": [
      "False\n",
      "True\n",
      "True\n",
      "False\n",
      "True\n",
      "False\n"
     ]
    }
   ],
   "source": [
    "#Relational operators\n",
    "\n",
    "x = 10\n",
    "y = 20\n",
    "print(x > y)\n",
    "print(x < y)\n",
    "print(x <= y)\n",
    "print(x >= y)\n",
    "print(x != y)\n",
    "print(x == y)\n",
    "\n",
    "# >,<,>=,<=,!=,==\n",
    "#all above are relational operators"
   ]
  },
  {
   "cell_type": "code",
   "execution_count": 16,
   "metadata": {},
   "outputs": [
    {
     "data": {
      "text/plain": [
       "True"
      ]
     },
     "execution_count": 16,
     "metadata": {},
     "output_type": "execute_result"
    }
   ],
   "source": [
    "# Logical Operators\n",
    "# or, and\n",
    "x = 10\n",
    "y = 20\n",
    "z = 30\n",
    "x < y and x > z\n",
    "x < y and x <z\n"
   ]
  },
  {
   "cell_type": "code",
   "execution_count": 20,
   "metadata": {},
   "outputs": [
    {
     "name": "stdout",
     "output_type": "stream",
     "text": [
      "x\n"
     ]
    }
   ],
   "source": [
    "#If else\n",
    "x = 1\n",
    "y = 2\n",
    "if x > y:\n",
    "    print('a')\n",
    "elif y == x:\n",
    "    print(\"b\")\n",
    "else:\n",
    "    print(\"x\")"
   ]
  },
  {
   "cell_type": "code",
   "execution_count": 30,
   "metadata": {},
   "outputs": [
    {
     "name": "stdout",
     "output_type": "stream",
     "text": [
      "5\n",
      "1 2 3 4 5 \n",
      "Done\n"
     ]
    }
   ],
   "source": [
    "##Loops\n",
    "\n",
    "\n",
    "#While loop\n",
    "n = int(input())\n",
    "i = 1\n",
    "while i <= n:\n",
    "    print(i,end = \" \")\n",
    "    i = i +1\n",
    "\n",
    "print()\n",
    "print(\"Done\")\n",
    " \n"
   ]
  },
  {
   "cell_type": "code",
   "execution_count": 38,
   "metadata": {},
   "outputs": [
    {
     "name": "stdout",
     "output_type": "stream",
     "text": [
      "5\n",
      "0\n",
      "1\n",
      "2\n",
      "3\n",
      "4\n",
      "1\n",
      "3\n",
      "5\n"
     ]
    }
   ],
   "source": [
    "#for loop\n",
    "range(1,10)\n",
    "\n",
    "n = int(input())\n",
    "\n",
    "for i in range(n):\n",
    "    print(i)\n",
    "\n",
    "#basic synatx range(start,end,step)\n",
    "    \n",
    "for i in range(1,n+1,2):\n",
    "    print(i)\n",
    "\n"
   ]
  },
  {
   "cell_type": "code",
   "execution_count": 46,
   "metadata": {},
   "outputs": [
    {
     "name": "stdout",
     "output_type": "stream",
     "text": [
      "5\n",
      "Prime number\n"
     ]
    }
   ],
   "source": [
    "#prime number:\n",
    "\n",
    "n = int(input())\n",
    "prime = True\n",
    "\n",
    "for i in range(2,n):\n",
    "    if(n % i == 0):\n",
    "        prime = False\n",
    "        break\n",
    "        \n",
    "if(prime):\n",
    "    print(\"Prime number\")\n",
    "else:\n",
    "    print(\"Not prime number.\")\n",
    "    \n"
   ]
  },
  {
   "cell_type": "code",
   "execution_count": 53,
   "metadata": {},
   "outputs": [
    {
     "name": "stdout",
     "output_type": "stream",
     "text": [
      "a \n",
      "b \n",
      "c \n",
      "d \n",
      "1 2 3 450.12 "
     ]
    }
   ],
   "source": [
    "##Fast Iterations\n",
    "n = \"abcd\"\n",
    "\n",
    "for c in n:\n",
    "    print(c,end = \" \")   \n",
    "\n",
    "    print()\n",
    "a =(1,2,3,450.12)\n",
    "for i in a:\n",
    "    print(i,end=\" \")\n"
   ]
  },
  {
   "cell_type": "code",
   "execution_count": 56,
   "metadata": {},
   "outputs": [
    {
     "name": "stdout",
     "output_type": "stream",
     "text": [
      "6\n"
     ]
    }
   ],
   "source": [
    "##Fuctions:\n",
    "\n",
    "#def means  = definig a function\n",
    "def sum(a,b):\n",
    "    return a + b\n",
    "\n",
    "a = 1\n",
    "b = 5\n",
    "x = sum(a,b)\n",
    "print(x)\n"
   ]
  },
  {
   "cell_type": "code",
   "execution_count": 59,
   "metadata": {},
   "outputs": [
    {
     "name": "stdout",
     "output_type": "stream",
     "text": [
      "1000\n",
      "100\n"
     ]
    }
   ],
   "source": [
    "#Default arguments to a function\n",
    "\n",
    "def power(x,y=2):\n",
    "    #this y = 2 is default argument\n",
    "    return x ** y\n",
    "\n",
    "a = 10\n",
    "b = 3\n",
    "print(power(a,b))\n",
    "print(power(a))"
   ]
  },
  {
   "cell_type": "code",
   "execution_count": 63,
   "metadata": {},
   "outputs": [
    {
     "name": "stdout",
     "output_type": "stream",
     "text": [
      "8\n",
      "12\n",
      "15\n",
      "12\n"
     ]
    }
   ],
   "source": [
    "def sum3(a,b = 1,c=2):\n",
    "    return a + b+c\n",
    "\n",
    "print(sum3(5))\n",
    "print(sum3(5,5))\n",
    "print(sum3(5,5,5))\n",
    "\n",
    "\n",
    "#below one is same as when we pass  print(a,end=\"\")\n",
    "#here end becomes something which we are giving\n",
    "#else by default end = new line\n",
    "print(sum(5,b = 5))  \n"
   ]
  },
  {
   "cell_type": "code",
   "execution_count": 66,
   "metadata": {},
   "outputs": [
    {
     "name": "stdout",
     "output_type": "stream",
     "text": [
      "(13, 14)\n",
      "<class 'tuple'>\n"
     ]
    },
    {
     "data": {
      "text/plain": [
       "49"
      ]
     },
     "execution_count": 66,
     "metadata": {},
     "output_type": "execute_result"
    }
   ],
   "source": [
    "##Variable sized Input and output\n",
    "\n",
    "#variable number of inputs to a function\n",
    "\n",
    "def sum_variable(a,b,*more):\n",
    "    print(more)\n",
    "    print(type(more))\n",
    "    return 10\n",
    "\n",
    "sum_variable(10,12,13,14)\n",
    "\n",
    "def sum_variable(a,b,*more):\n",
    "    ans = a+b\n",
    "    for i in more:\n",
    "       ans += i \n",
    "    return ans\n",
    "\n",
    "sum_variable(10,12,13,14)\n",
    "\n",
    "\n"
   ]
  },
  {
   "cell_type": "code",
   "execution_count": 69,
   "metadata": {},
   "outputs": [
    {
     "name": "stdout",
     "output_type": "stream",
     "text": [
      "22\n",
      "-2\n",
      "22\n",
      "-2\n"
     ]
    }
   ],
   "source": [
    "#more than one return value\n",
    "\n",
    "def dummy(a,b):\n",
    "    return a+b,a-b\n",
    "\n",
    "sum_x,diff = dummy(10,12)\n",
    "sum_y = dummy(10,12)[0]\n",
    "diff_y = dummy(10,12)[1]\n",
    "print(sum_x)\n",
    "print(diff)\n",
    "print(sum_y)\n",
    "print(diff_y )"
   ]
  }
 ],
 "metadata": {
  "kernelspec": {
   "display_name": "Python 3",
   "language": "python",
   "name": "python3"
  },
  "language_info": {
   "codemirror_mode": {
    "name": "ipython",
    "version": 3
   },
   "file_extension": ".py",
   "mimetype": "text/x-python",
   "name": "python",
   "nbconvert_exporter": "python",
   "pygments_lexer": "ipython3",
   "version": "3.8.5"
  }
 },
 "nbformat": 4,
 "nbformat_minor": 4
}
