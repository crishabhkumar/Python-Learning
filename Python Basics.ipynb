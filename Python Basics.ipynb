{
 "cells": [
  {
   "cell_type": "code",
   "execution_count": 9,
   "metadata": {},
   "outputs": [
    {
     "name": "stdout",
     "output_type": "stream",
     "text": [
      "10\n",
      "0.8333333333333334\n",
      "0\n",
      "4\n"
     ]
    }
   ],
   "source": [
    "##Variables\n",
    "#are anything that store some value in them and are subject to be changed.\n",
    "a = 10\n",
    "b = 12\n",
    "\n",
    "#there is no need to declare datatype of variable during intialization.\n",
    "# no semicolon is to be used like in other language\n",
    "\n",
    "#to print\n",
    "print(a)\n",
    "\n",
    "#print quotient of a divided bt b\n",
    "print(a/b)\n",
    "\n",
    "#print floor value of quotient\n",
    "print(a // b)\n",
    "\n",
    "#It is allowed to assign the same value to multiple variables in one line.\n",
    "a = b = 2\n",
    "\n",
    "print(a + b)"
   ]
  },
  {
   "cell_type": "code",
   "execution_count": 26,
   "metadata": {},
   "outputs": [
    {
     "name": "stdout",
     "output_type": "stream",
     "text": [
      "13\n",
      "i\n",
      "b\n",
      "a\n",
      "My name isRishabh\n",
      "My name is Rishabh\n",
      "Hi,My name is Rishabh \n",
      "I am from delhi.\n",
      "True\n",
      "RISHABH KUMAR\n",
      "rishabh kumar\n",
      "Heooo\n",
      "Please enter:Hello\n",
      "Hello\n"
     ]
    }
   ],
   "source": [
    "##String and Input\n",
    "\n",
    "#String can be declare djust like regular variables\n",
    "stri = \"Rishabh Kumar\"\n",
    "\n",
    "#print length of string\n",
    "print(len(stri))\n",
    "\n",
    "#Access string elements by array-like indexing\n",
    "print(stri[1])\n",
    "print(stri[5])\n",
    "print(stri[-2])\n",
    "\n",
    "#Concatenating two strings\n",
    "string1 = \"My name is\"\n",
    "string2 = \"Rishabh\"\n",
    "\n",
    "print(string1 + string2)\n",
    "print(string1 + \" \" + string2)\n",
    "\n",
    "\n",
    "#triple quotes for strings\n",
    "bigstring = \"\"\"Hi,My name is Rishabh \n",
    "I am from delhi.\"\"\"\n",
    "\n",
    "print(bigstring)\n",
    "\n",
    "\n",
    "#check if char is present in string or not.\n",
    "print('s' in stri)\n",
    "\n",
    "#convert string to upper-case\n",
    "striUpper = stri.upper()\n",
    "print(striUpper)\n",
    "\n",
    "#convert string to lower-case\n",
    "striLower = stri.lower()\n",
    "print(striLower)\n",
    "\n",
    "#replace an element of a string\n",
    "notmystring =\"Hello\"\n",
    "ismystring = notmystring.replace(\"l\",\"o\")\n",
    "print(ismystring)\n",
    "\n",
    "\n",
    "#take input from user\n",
    "newstring = input(\"Please enter:\")\n",
    "print(newstring)\n"
   ]
  },
  {
   "cell_type": "code",
   "execution_count": 35,
   "metadata": {},
   "outputs": [
    {
     "name": "stdout",
     "output_type": "stream",
     "text": [
      "Ris\n",
      "abh\n",
      "Hlo ynm sRsahkmrcaday\n"
     ]
    }
   ],
   "source": [
    "##Slicing\n",
    "#which wirks for both strings and array(lists) and is a useful way to access and operate on data.\n",
    "#slicing comes in handy when we wish to ibtain a subset of strings\n",
    "#in s[2:6] won't return 6 coz in slicing 6th element is not included or returned\n",
    "\n",
    "\n",
    "name = \"Rishabh\"\n",
    "\n",
    "#print first three elements of string\n",
    "#indexing starts at 0,so to print the first three \n",
    "#we write 0:3,because the last index element isn't included and printed.\n",
    "\n",
    "print(name[0:3])\n",
    "\n",
    "#print last three elements\n",
    "#its syntax = -upto index +1 : nothing here(coz it is out string)\n",
    "print(name[-3:])\n",
    "\n",
    "\n",
    "#print alternate element\n",
    "#the thirs slicing number defines the stride\n",
    "#stride is the amount of elements you want to skip while retrieving the elements of the string\n",
    "\n",
    "#let a big string\n",
    "bigstring =\"\"\"Hello, My name is Rishabh kumar chaudhary.\"\"\"\n",
    "#then print its alternate element\n",
    "print(bigstring[::2])\n"
   ]
  },
  {
   "cell_type": "code",
   "execution_count": 1,
   "metadata": {},
   "outputs": [
    {
     "name": "stdout",
     "output_type": "stream",
     "text": [
      "2\n",
      "(2, 3)\n",
      "('Rishabh', 19, 96585383, 9.5)\n",
      "(1, 2, 3, 4, 5, 6)\n",
      "True\n",
      "True\n",
      "False\n",
      "True\n"
     ]
    }
   ],
   "source": [
    "##Tuples\n",
    "# are simply a way to store multiple elements in one place\n",
    "#BUT THEY ARE NOT SAME AS ARRAYS.\n",
    "\n",
    "#Difference between tuples and lists\n",
    "#tuples can't be change or update and use () parenthesis\n",
    "#lists can be change or update and use [].\n",
    "\n",
    "\n",
    "#they aee intialized with their values in parenthesis \n",
    "#and their value can be accessed same as strings\n",
    "\n",
    "#tuples are in handy when we can have different types of data like floats nad charcaters\n",
    "#as elements of a single tuple\n",
    "#and slicing works on them\n",
    "#just as strings and arrays.\n",
    "\n",
    "#THEY ARE HOWEVER IMMUTABLE\n",
    "\n",
    "\n",
    "#Intialize a tuple\n",
    "first_tuple = (1,2,3)\n",
    "\n",
    "#print second element\n",
    "#syntax = first_tuple[required ith element]\n",
    "print(first_tuple[1])\n",
    "\n",
    "#print last two elements\n",
    "print(first_tuple[-2:])\n",
    "\n",
    "\n",
    "#mixed tuples: tuples can contain mixed data types\n",
    "\n",
    "mixTuple = (\"Rishabh\",19,96585383,9.50)\n",
    "print(mixTuple)\n",
    "\n",
    "\n",
    "#adding two tuples\n",
    "tuple1 = (1,2,3)\n",
    "tuple2 = (4,5,6)\n",
    "print(tuple1 + tuple2)\n",
    "\n",
    "\n",
    "#query in tuples\n",
    "print(2 in tuple1)\n",
    "print(5 in tuple2)\n",
    "print(7 in tuple1)\n",
    "print(\"Rishabh\" in mixTuple)\n"
   ]
  },
  {
   "cell_type": "markdown",
   "metadata": {},
   "source": [
    "# Some hand works"
   ]
  },
  {
   "cell_type": "code",
   "execution_count": 5,
   "metadata": {},
   "outputs": [
    {
     "name": "stdout",
     "output_type": "stream",
     "text": [
      "5 <class 'int'>\n",
      "Hello ,this is rishabh <class 'str'>\n"
     ]
    }
   ],
   "source": [
    "##Variables\n",
    "\n",
    "a= 5\n",
    "#variable contaning an int = 5\n",
    "print(a,type(a))\n",
    "\n",
    "a = \"Hello ,this is rishabh\"\n",
    "print(a,type(a))\n",
    "#variables can be re assigned to any datatype\n"
   ]
  },
  {
   "cell_type": "code",
   "execution_count": 16,
   "metadata": {},
   "outputs": [
    {
     "name": "stdout",
     "output_type": "stream",
     "text": [
      "input two numbers:\n",
      "75 48\n",
      "75 48\n",
      "75 48 <class 'str'>\n",
      "75 48\n"
     ]
    }
   ],
   "source": [
    "##Inputs\n",
    "\n",
    "#by default every input if dont intialize then it is string\n",
    "print(\"input two numbers:\")\n",
    "a = input()\n",
    "print(a)\n",
    "\n",
    "#it is taking two integers at same time coz it is string\n",
    "#taking two integers as a whole string\n",
    "\n",
    "\n",
    "#we can check by\n",
    "print(a,type(a))\n",
    "\n",
    "\n",
    "#we can see the complete input taken as string\n",
    "\n",
    "#we can extract two numbers from this string by split()\n",
    "\n",
    "list1 = a.split(\" \")\n",
    "list1\n",
    "\n",
    "#we can extract numbers\n",
    "num1 = list1[0]\n",
    "num2 = list1[1]\n",
    "print(num1,num2)\n"
   ]
  },
  {
   "cell_type": "code",
   "execution_count": 18,
   "metadata": {},
   "outputs": [
    {
     "name": "stdout",
     "output_type": "stream",
     "text": [
      "[45, 'Rishabh', 4.56, 7.0]\n",
      "Rishabh\n",
      "7.0\n",
      "[45, 'Rishabh', 4.56, 'hello']\n"
     ]
    }
   ],
   "source": [
    "##Lists\n",
    "# list in python is just a collectiong of data (may not be of same type)\n",
    "\n",
    "exp_list = [45,\"Rishabh\",4.56,7.0]\n",
    "print(exp_list)\n",
    "\n",
    "\n",
    "#indexing starts from 0\n",
    "#any element can be accesed by its index\n",
    "\n",
    "print(exp_list[1])\n",
    "print(exp_list[3])\n",
    "\n",
    "#LISTS ARE MUTTABLE\n",
    "#any element can be updated through its index\n",
    "exp_list[3] = 'hello'\n",
    "print(exp_list)"
   ]
  },
  {
   "cell_type": "code",
   "execution_count": 19,
   "metadata": {},
   "outputs": [
    {
     "name": "stdout",
     "output_type": "stream",
     "text": [
      "Enter two numbers:\n",
      "45 75\n",
      "n1: 45 n2: 75\n"
     ]
    }
   ],
   "source": [
    "##Professional way to take inputs\n",
    "\n",
    "print(\"Enter two numbers:\")\n",
    "n1,n2 = [int(item) for item in input().strip().split(\" \")]\n",
    "#it means\n",
    "#for every item in the list created by the split(),convert it to an int,\n",
    "\n",
    "print(\"n1:\",n1,\"n2:\",n2)"
   ]
  }
 ],
 "metadata": {
  "kernelspec": {
   "display_name": "Python 3",
   "language": "python",
   "name": "python3"
  },
  "language_info": {
   "codemirror_mode": {
    "name": "ipython",
    "version": 3
   },
   "file_extension": ".py",
   "mimetype": "text/x-python",
   "name": "python",
   "nbconvert_exporter": "python",
   "pygments_lexer": "ipython3",
   "version": "3.8.5"
  }
 },
 "nbformat": 4,
 "nbformat_minor": 4
}
